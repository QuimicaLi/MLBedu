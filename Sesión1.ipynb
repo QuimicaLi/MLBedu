{
  "nbformat": 4,
  "nbformat_minor": 0,
  "metadata": {
    "colab": {
      "provenance": [],
      "include_colab_link": true
    },
    "kernelspec": {
      "name": "python3",
      "display_name": "Python 3"
    },
    "language_info": {
      "name": "python"
    }
  },
  "cells": [
    {
      "cell_type": "markdown",
      "metadata": {
        "id": "view-in-github",
        "colab_type": "text"
      },
      "source": [
        "<a href=\"https://colab.research.google.com/github/QuimicaLi/MLBedu/blob/main/Sesi%C3%B3n1.ipynb\" target=\"_parent\"><img src=\"https://colab.research.google.com/assets/colab-badge.svg\" alt=\"Open In Colab\"/></a>"
      ]
    },
    {
      "cell_type": "code",
      "source": [
        "import numpy as np\n",
        "import matplotlib.pyplot as plt\n"
      ],
      "metadata": {
        "id": "nZeVpaDtGuyg"
      },
      "execution_count": 15,
      "outputs": []
    },
    {
      "cell_type": "markdown",
      "source": [
        "# Separación de datos"
      ],
      "metadata": {
        "id": "1mtdBy-6GrXW"
      }
    },
    {
      "cell_type": "code",
      "source": [
        "from sklearn.datasets import load_iris\n",
        "from sklearn.model_selection import train_test_split"
      ],
      "metadata": {
        "id": "l3nYUGpsENoB"
      },
      "execution_count": null,
      "outputs": []
    },
    {
      "cell_type": "code",
      "source": [
        "# Cargar el conjunto de datos Iris\n",
        "data = load_iris()\n",
        "X = data.data  # Características (atributos)\n",
        "y = data.target  # Etiquetas (clases)"
      ],
      "metadata": {
        "id": "gFbeFCLeG2Uh"
      },
      "execution_count": 2,
      "outputs": []
    },
    {
      "cell_type": "markdown",
      "source": [
        "Haremos lo siguiente:\n",
        "\n",
        "![image](https://github.com/beduExpert/C1-Machine-Learning-2020/raw/master/Sesion-02/imgassets/Partitions2.png)"
      ],
      "metadata": {
        "id": "MnaZVOIhHKEF"
      }
    },
    {
      "cell_type": "code",
      "source": [
        "# Dividir los datos en conjuntos de entrenamiento, validación y prueba\n",
        "# Primero, dividimos en conjunto de entrenamiento y el resto (que luego se dividirá en validación y prueba)\n",
        "X_train, X_temp, y_train, y_temp = train_test_split(X, y, test_size=0.3, random_state=42)"
      ],
      "metadata": {
        "id": "UYbRy9fAGygI"
      },
      "execution_count": 3,
      "outputs": []
    },
    {
      "cell_type": "code",
      "source": [
        "# Luego, dividimos el conjunto temporal (30%) en conjuntos de validación y prueba (50% cada uno)\n",
        "X_val, X_test, y_val, y_test = train_test_split(X_temp, y_temp, test_size=0.5, random_state=42)"
      ],
      "metadata": {
        "id": "0p2_o4P-G5Ug"
      },
      "execution_count": 4,
      "outputs": []
    },
    {
      "cell_type": "code",
      "source": [
        "# Ahora tienes los siguientes conjuntos de datos:\n",
        "# - X_train: Características de entrenamiento\n",
        "# - y_train: Etiquetas de entrenamiento\n",
        "# - X_val: Características de validación\n",
        "# - y_val: Etiquetas de validación\n",
        "# - X_test: Características de prueba\n",
        "# - y_test: Etiquetas de prueba\n",
        "\n",
        "# Puedes imprimir las longitudes de los conjuntos de datos para verificar\n",
        "print(\"Tamaño del conjunto de entrenamiento:\", len(X_train))\n",
        "print(\"Tamaño del conjunto de validación:\", len(X_val))\n",
        "print(\"Tamaño del conjunto de prueba:\", len(X_test))"
      ],
      "metadata": {
        "colab": {
          "base_uri": "https://localhost:8080/"
        },
        "id": "cBpQwtE2G8kO",
        "outputId": "9fce377c-c4f7-4453-a482-718b136df5aa"
      },
      "execution_count": 5,
      "outputs": [
        {
          "output_type": "stream",
          "name": "stdout",
          "text": [
            "Tamaño del conjunto de entrenamiento: 105\n",
            "Tamaño del conjunto de validación: 22\n",
            "Tamaño del conjunto de prueba: 23\n"
          ]
        }
      ]
    },
    {
      "cell_type": "markdown",
      "source": [
        "#Validación cruzada\n"
      ],
      "metadata": {
        "id": "osSDjVy4v1wy"
      }
    },
    {
      "cell_type": "code",
      "source": [
        "from sklearn.model_selection import KFold"
      ],
      "metadata": {
        "id": "I3bcWkszv1St"
      },
      "execution_count": 6,
      "outputs": []
    },
    {
      "cell_type": "code",
      "source": [
        "# Generar datos de ejemplo (100 muestras)\n",
        "X = np.random.rand(100,5) # caracteristicas\n",
        "y = np.random.randint(2, size=100) # etiquetas binarias (0 o 1)"
      ],
      "metadata": {
        "id": "C8R6vByGwoB8"
      },
      "execution_count": 7,
      "outputs": []
    },
    {
      "cell_type": "code",
      "source": [
        "# Definir el número de pliegues para la validación cruzada\n",
        "num_pliegues = 5"
      ],
      "metadata": {
        "id": "wjy2J0t-w8YL"
      },
      "execution_count": 8,
      "outputs": []
    },
    {
      "cell_type": "code",
      "source": [
        "# Crear un objeto KFold para dividir los datos en pliegues\n",
        "kf = KFold(n_splits=num_pliegues, shuffle=True, random_state=42)"
      ],
      "metadata": {
        "id": "K03nlaKFxQDA"
      },
      "execution_count": 9,
      "outputs": []
    },
    {
      "cell_type": "code",
      "source": [
        "# Realizar validación cruzada\n",
        "for i, (train_indices, test_indices) in enumerate(kf.split(X)):\n",
        "  X_entrenamiento, X_prueba = X[train_indices], X[test_indices]\n",
        "  y_entrenamiento, y_prueba = y[train_indices], y[test_indices]\n",
        "\n",
        "  # Imprimir información sobre el pliegue actuaal\n",
        "  print(f\"Pliegue {i + 1}:\")\n",
        "  print(f\"Tamaño del conjunto de entrenamiento: {len(X_entrenamiento)}\")\n",
        "  print(f\"Tamaño del conjunto de prueba: {len(X_prueba)}\")\n",
        "  print(\"\\n\")"
      ],
      "metadata": {
        "id": "Yo5N9_SexgPn",
        "outputId": "2790a41b-c560-431f-e93b-01c9b524f805",
        "colab": {
          "base_uri": "https://localhost:8080/"
        }
      },
      "execution_count": 10,
      "outputs": [
        {
          "output_type": "stream",
          "name": "stdout",
          "text": [
            "Pliegue 1:\n",
            "Tamaño del conjunto de entrenamiento: 80\n",
            "Tamaño del conjunto de prueba: 20\n",
            "\n",
            "\n",
            "Pliegue 2:\n",
            "Tamaño del conjunto de entrenamiento: 80\n",
            "Tamaño del conjunto de prueba: 20\n",
            "\n",
            "\n",
            "Pliegue 3:\n",
            "Tamaño del conjunto de entrenamiento: 80\n",
            "Tamaño del conjunto de prueba: 20\n",
            "\n",
            "\n",
            "Pliegue 4:\n",
            "Tamaño del conjunto de entrenamiento: 80\n",
            "Tamaño del conjunto de prueba: 20\n",
            "\n",
            "\n",
            "Pliegue 5:\n",
            "Tamaño del conjunto de entrenamiento: 80\n",
            "Tamaño del conjunto de prueba: 20\n",
            "\n",
            "\n"
          ]
        }
      ]
    },
    {
      "cell_type": "markdown",
      "source": [
        "En este ejemplo, se utiliza KFold para dividir manualmente los datos en pliegues y obtener conjuntos de entrenamiento y prueba en cada iteración de la validación cruzada.\n",
        "\n",
        "En este código:\n",
        "\n",
        "Generamos datos de ejemplo con 100 muestras y 5 características.\n",
        "\n",
        "Definimos el número de pliegues para la validación cruzada (en este caso, 5 pliegues).\n",
        "\n",
        "Utilizamos el objeto KFold de Scikit-Learn para dividir los datos en pliegues. El argumento shuffle=True garantiza que los datos se mezclen antes de la división, y random_state hace que la división sea reproducible.\n",
        "\n",
        "En cada iteración del bucle, obtenemos conjuntos de entrenamiento y prueba utilizando los índices generados por kf.split(). Luego, imprimimos información sobre la división de datos en cada pliegue.\n",
        "Este ejemplo ilustra cómo realizar la separación de datos en conjuntos de entrenamiento y prueba utilizando validación cruzada sin enfocarnos en el entrenamiento de un modelo específico ni en la evaluación del mismo.\n"
      ],
      "metadata": {
        "id": "bg7B0208zMV5"
      }
    },
    {
      "cell_type": "code",
      "source": [],
      "metadata": {
        "id": "RioO9g3bzRCh"
      },
      "execution_count": 10,
      "outputs": []
    },
    {
      "cell_type": "markdown",
      "source": [
        "# Leave-out-out cross validation"
      ],
      "metadata": {
        "id": "ImlT3q0czUDx"
      }
    },
    {
      "cell_type": "code",
      "source": [
        "# Generar datos de ejemplo (10 puntos de datos)\n",
        "datos = np.array([1, 2, 3, 4, 5, 6, 7, 8, 9, 10])"
      ],
      "metadata": {
        "id": "9X0OXSWkzfk_"
      },
      "execution_count": 11,
      "outputs": []
    },
    {
      "cell_type": "code",
      "source": [
        "# Inicializar una lista para almacenar los resultados de LOOCV\n",
        "resultados_loocv = []"
      ],
      "metadata": {
        "id": "KQNQFieI2U1e"
      },
      "execution_count": 12,
      "outputs": []
    },
    {
      "cell_type": "code",
      "source": [
        "# Realizar LOOCV\n",
        "for i in range(len(datos)):\n",
        "    conjunto_entrenamiento = np.delete(datos, i)  # Dejar fuera un punto de datos\n",
        "    punto_prueba = datos[i]  # Punto excluido para prueba\n",
        "    resultados_loocv.append((conjunto_entrenamiento, punto_prueba))"
      ],
      "metadata": {
        "id": "PbtsHddd2bZV"
      },
      "execution_count": 13,
      "outputs": []
    },
    {
      "cell_type": "code",
      "source": [
        "# Imprimir resultados de LOOCV\n",
        "for i, (conjunto_entrenamiento, punto_prueba) in enumerate(resultados_loocv):\n",
        "    print(f\"Iteración {i + 1}:\")\n",
        "    print(f\"Conjunto de Entrenamiento: {conjunto_entrenamiento}\")\n",
        "    print(f\"Punto de Prueba: {punto_prueba}\")\n",
        "    print(\"\\n\")"
      ],
      "metadata": {
        "id": "nY7aRb0C2dsO",
        "outputId": "692ecefc-8c1f-40f0-c6b7-22a05f6bd67c",
        "colab": {
          "base_uri": "https://localhost:8080/"
        }
      },
      "execution_count": 14,
      "outputs": [
        {
          "output_type": "stream",
          "name": "stdout",
          "text": [
            "Iteración 1:\n",
            "Conjunto de Entrenamiento: [ 2  3  4  5  6  7  8  9 10]\n",
            "Punto de Prueba: 1\n",
            "\n",
            "\n",
            "Iteración 2:\n",
            "Conjunto de Entrenamiento: [ 1  3  4  5  6  7  8  9 10]\n",
            "Punto de Prueba: 2\n",
            "\n",
            "\n",
            "Iteración 3:\n",
            "Conjunto de Entrenamiento: [ 1  2  4  5  6  7  8  9 10]\n",
            "Punto de Prueba: 3\n",
            "\n",
            "\n",
            "Iteración 4:\n",
            "Conjunto de Entrenamiento: [ 1  2  3  5  6  7  8  9 10]\n",
            "Punto de Prueba: 4\n",
            "\n",
            "\n",
            "Iteración 5:\n",
            "Conjunto de Entrenamiento: [ 1  2  3  4  6  7  8  9 10]\n",
            "Punto de Prueba: 5\n",
            "\n",
            "\n",
            "Iteración 6:\n",
            "Conjunto de Entrenamiento: [ 1  2  3  4  5  7  8  9 10]\n",
            "Punto de Prueba: 6\n",
            "\n",
            "\n",
            "Iteración 7:\n",
            "Conjunto de Entrenamiento: [ 1  2  3  4  5  6  8  9 10]\n",
            "Punto de Prueba: 7\n",
            "\n",
            "\n",
            "Iteración 8:\n",
            "Conjunto de Entrenamiento: [ 1  2  3  4  5  6  7  9 10]\n",
            "Punto de Prueba: 8\n",
            "\n",
            "\n",
            "Iteración 9:\n",
            "Conjunto de Entrenamiento: [ 1  2  3  4  5  6  7  8 10]\n",
            "Punto de Prueba: 9\n",
            "\n",
            "\n",
            "Iteración 10:\n",
            "Conjunto de Entrenamiento: [1 2 3 4 5 6 7 8 9]\n",
            "Punto de Prueba: 10\n",
            "\n",
            "\n"
          ]
        }
      ]
    },
    {
      "cell_type": "markdown",
      "source": [
        "Generamos un conjunto de datos de ejemplo con 10 puntos (puedes reemplazarlo por tus datos reales).\n",
        "\n",
        "Realizamos LOOCV manualmente en un bucle for. En cada iteración, dejamos un punto de datos fuera como conjunto de prueba (punto_prueba) y usamos los demás como conjunto de entrenamiento (conjunto_entrenamiento).\n",
        "\n",
        "Almacenamos los resultados de cada iteración en una lista llamada resultados_loocv, que contiene tuplas con los conjuntos de entrenamiento y los puntos de prueba.\n",
        "\n",
        "Finalmente, imprimimos la información sobre los conjuntos de entrenamiento y los puntos de prueba en cada iteración.\n",
        "\n",
        "Este ejemplo ilustra cómo implementar LOOCV sin un modelo, enfocándonos únicamente en la separación de datos."
      ],
      "metadata": {
        "id": "n3W7YBF8_nyi"
      }
    },
    {
      "cell_type": "markdown",
      "source": [
        "# Matriz de confusión"
      ],
      "metadata": {
        "id": "ZRgQs1McD-Qd"
      }
    },
    {
      "cell_type": "code",
      "source": [
        "from sklearn.metrics import confusion_matrix"
      ],
      "metadata": {
        "id": "rs55fZxlEAHP"
      },
      "execution_count": 16,
      "outputs": []
    },
    {
      "cell_type": "code",
      "source": [
        "# Generar datos de ejemplo (etiquetas reales y predicciones)\n",
        "etiquetas_reales = np.array([0, 1, 1, 0, 1, 0, 0, 1, 0, 1])  # Etiquetas reales (0 o 1)\n",
        "predicciones = np.array([0, 1, 0, 0, 1, 1, 0, 0, 1, 1])  # Predicciones (0 o 1)"
      ],
      "metadata": {
        "id": "PNHgQ1znEYe7"
      },
      "execution_count": 17,
      "outputs": []
    },
    {
      "cell_type": "code",
      "source": [
        "# Calcular la matriz de confusión\n",
        "matriz_confusion = confusion_matrix(etiquetas_reales, predicciones)"
      ],
      "metadata": {
        "id": "PeynQjUHEhFh"
      },
      "execution_count": 18,
      "outputs": []
    },
    {
      "cell_type": "code",
      "source": [
        "# Crear una figura para mostrar la matriz de confusión\n",
        "plt.figure(figsize=(6, 4))"
      ],
      "metadata": {
        "colab": {
          "base_uri": "https://localhost:8080/",
          "height": 52
        },
        "id": "n5ESrg7mEdj7",
        "outputId": "761e9299-a686-4398-a10c-50f31b6a8ae9"
      },
      "execution_count": 19,
      "outputs": [
        {
          "output_type": "execute_result",
          "data": {
            "text/plain": [
              "<Figure size 600x400 with 0 Axes>"
            ]
          },
          "metadata": {},
          "execution_count": 19
        },
        {
          "output_type": "display_data",
          "data": {
            "text/plain": [
              "<Figure size 600x400 with 0 Axes>"
            ]
          },
          "metadata": {}
        }
      ]
    },
    {
      "cell_type": "code",
      "source": [
        "# Mostrar la matriz de confusión como una imagen\n",
        "plt.imshow(matriz_confusion, interpolation='nearest', cmap=plt.cm.Blues)\n",
        "plt.title('Matriz de Confusión')\n",
        "plt.colorbar()\n",
        "\n",
        "# Etiquetas de los ejes\n",
        "clases = [\"Negativo\", \"Positivo\"]\n",
        "tick_marks = np.arange(len(clases))\n",
        "plt.xticks(tick_marks, clases, rotation=45)\n",
        "plt.yticks(tick_marks, clases)\n",
        "\n",
        "# Anotar los valores en la matriz de confusión\n",
        "thresh = matriz_confusion.max() / 2.\n",
        "for i in range(matriz_confusion.shape[0]):\n",
        "    for j in range(matriz_confusion.shape[1]):\n",
        "        plt.text(j, i, str(matriz_confusion[i, j]), horizontalalignment=\"center\",\n",
        "                 color=\"white\" if matriz_confusion[i, j] > thresh else \"black\")\n",
        "\n",
        "plt.tight_layout()\n",
        "plt.ylabel('Etiqueta Real')\n",
        "plt.xlabel('Predicción')\n",
        "plt.show()"
      ],
      "metadata": {
        "colab": {
          "base_uri": "https://localhost:8080/",
          "height": 506
        },
        "id": "iPu8JUObEoXB",
        "outputId": "02ae01cb-0cf6-4e1f-88c3-823017abdcd5"
      },
      "execution_count": 20,
      "outputs": [
        {
          "output_type": "display_data",
          "data": {
            "text/plain": [
              "<Figure size 640x480 with 2 Axes>"
            ],
            "image/png": "[encoded data removed]"
          },
          "metadata": {}
        }
      ]
    },
    {
      "cell_type": "markdown",
      "source": [
        "# Matriz de confusión"
      ],
      "metadata": {
        "id": "Hds3XcqQE1zJ"
      }
    },
    {
      "cell_type": "code",
      "source": [
        "from sklearn.metrics import confusion_matrix, roc_curve, auc, mean_squared_error, r2_score"
      ],
      "metadata": {
        "id": "IPNywBomEz3d"
      },
      "execution_count": 21,
      "outputs": []
    },
    {
      "cell_type": "code",
      "source": [
        "# Generar datos de ejemplo (etiquetas reales y predicciones ficticias)\n",
        "etiquetas_reales = np.array([0, 1, 1, 0, 1, 0, 0, 1, 0, 1])  # Etiquetas reales (0 o 1)\n",
        "predicciones = np.array([0, 1, 0, 0, 1, 1, 0, 0, 1, 1])  # Predicciones (0 o 1)\n"
      ],
      "metadata": {
        "id": "91PLLD8eE82t"
      },
      "execution_count": 22,
      "outputs": []
    },
    {
      "cell_type": "code",
      "source": [
        "# Calcular la matriz de confusión\n",
        "matriz_confusion = confusion_matrix(etiquetas_reales, predicciones)"
      ],
      "metadata": {
        "id": "6l_DMNtTFAmZ"
      },
      "execution_count": 23,
      "outputs": []
    },
    {
      "cell_type": "code",
      "source": [
        "# Calcular precisión, sensibilidad y especificidad\n",
        "precision = matriz_confusion[1, 1] / (matriz_confusion[1, 1] + matriz_confusion[0, 1])\n",
        "sensibilidad = matriz_confusion[1, 1] / (matriz_confusion[1, 1] + matriz_confusion[1, 0])\n",
        "especificidad = matriz_confusion[0, 0] / (matriz_confusion[0, 0] + matriz_confusion[0, 1])"
      ],
      "metadata": {
        "id": "t4aRLnYwFD_M"
      },
      "execution_count": 24,
      "outputs": []
    },
    {
      "cell_type": "code",
      "source": [
        "# Calcular F1-score\n",
        "f1_score = 2 * (precision * sensibilidad) / (precision + sensibilidad)"
      ],
      "metadata": {
        "id": "JioAYuBYFHXs"
      },
      "execution_count": 25,
      "outputs": []
    },
    {
      "cell_type": "code",
      "source": [
        "# Generar datos para la curva ROC y calcular el AUC-ROC\n",
        "y_true = etiquetas_reales\n",
        "y_scores = np.random.rand(len(y_true))\n",
        "fpr, tpr, _ = roc_curve(y_true, y_scores)\n",
        "roc_auc = auc(fpr, tpr)"
      ],
      "metadata": {
        "id": "NxyiiOw0FKIs"
      },
      "execution_count": 26,
      "outputs": []
    },
    {
      "cell_type": "code",
      "source": [
        "# Calcular el Error Cuadrático Medio (MSE) y el Coeficiente de Determinación (R²)\n",
        "y_true_regresion = np.array([1, 2, 3, 4, 5, 6, 7, 8, 9, 10])  # Datos reales de regresión\n",
        "y_pred_regresion = np.array([1.2, 2.5, 3.1, 3.9, 4.8, 6.0, 6.8, 7.9, 9.2, 10.5])  # Predicciones de regresión\n",
        "mse = mean_squared_error(y_true_regresion, y_pred_regresion)\n",
        "r2 = r2_score(y_true_regresion, y_pred_regresion)"
      ],
      "metadata": {
        "id": "TthQxE97FLk8"
      },
      "execution_count": 27,
      "outputs": []
    },
    {
      "cell_type": "code",
      "source": [
        "# Imprimir las métricas calculadas\n",
        "print(f\"Precisión: {precision:.2f}\")\n",
        "print(f\"Sensibilidad: {sensibilidad:.2f}\")\n",
        "print(f\"Especificidad: {especificidad:.2f}\")\n",
        "print(f\"F1-score: {f1_score:.2f}\")\n",
        "print(f\"AUC-ROC: {roc_auc:.2f}\")\n",
        "print(f\"Error Cuadrático Medio (MSE): {mse:.2f}\")\n",
        "print(f\"Coeficiente de Determinación (R²): {r2:.2f}\")"
      ],
      "metadata": {
        "colab": {
          "base_uri": "https://localhost:8080/"
        },
        "id": "_jo5HeGvFO_G",
        "outputId": "7ba7fe4e-60e2-483f-bdcd-019a2bd05498"
      },
      "execution_count": 28,
      "outputs": [
        {
          "output_type": "stream",
          "name": "stdout",
          "text": [
            "Precisión: 0.60\n",
            "Sensibilidad: 0.60\n",
            "Especificidad: 0.60\n",
            "F1-score: 0.60\n",
            "AUC-ROC: 0.40\n",
            "Error Cuadrático Medio (MSE): 0.07\n",
            "Coeficiente de Determinación (R²): 0.99\n"
          ]
        }
      ]
    },
    {
      "cell_type": "code",
      "source": [
        "# Crear una figura para mostrar la curva ROC\n",
        "plt.figure(figsize=(6, 4))\n",
        "plt.plot(fpr, tpr, color='darkorange', lw=2, label=f'AUC = {roc_auc:.2f}')\n",
        "plt.plot([0, 1], [0, 1], color='navy', lw=2, linestyle='--')\n",
        "plt.xlim([0.0, 1.0])\n",
        "plt.ylim([0.0, 1.05])\n",
        "plt.xlabel('Tasa de Falsos Positivos')\n",
        "plt.ylabel('Tasa de Verdaderos Positivos')\n",
        "plt.title('Curva ROC')\n",
        "plt.legend(loc='lower right')\n",
        "plt.show()"
      ],
      "metadata": {
        "colab": {
          "base_uri": "https://localhost:8080/",
          "height": 410
        },
        "id": "2vsz_YntFY92",
        "outputId": "4ab9526a-5d44-41af-f28d-fd82d83fa255"
      },
      "execution_count": 29,
      "outputs": [
        {
          "output_type": "display_data",
          "data": {
            "text/plain": [
              "<Figure size 600x400 with 1 Axes>"
            ],
            "image/png": "[encoded data removed]"
          },
          "metadata": {}
        }
      ]
    }
  ]
}